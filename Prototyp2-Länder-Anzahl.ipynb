{
 "cells": [
  {
   "cell_type": "code",
   "execution_count": 1,
   "metadata": {},
   "outputs": [],
   "source": [
    "import pandas as pd\n",
    "import numpy as np\n",
    "import plotly\n",
    "import plotly.plotly as py\n",
    "import plotly.offline as po\n",
    "import plotly.graph_objs as go"
   ]
  },
  {
   "cell_type": "code",
   "execution_count": 2,
   "metadata": {},
   "outputs": [
    {
     "data": {
      "text/html": [
       "<script type=\"text/javascript\">window.PlotlyConfig = {MathJaxConfig: 'local'};</script><script type=\"text/javascript\">if (window.MathJax) {MathJax.Hub.Config({SVG: {font: \"STIX-Web\"}});}</script><script>requirejs.config({paths: { 'plotly': ['https://cdn.plot.ly/plotly-latest.min']},});if(!window._Plotly) {require(['plotly'],function(plotly) {window._Plotly=plotly;});}</script>"
      ],
      "text/vnd.plotly.v1+html": [
       "<script type=\"text/javascript\">window.PlotlyConfig = {MathJaxConfig: 'local'};</script><script type=\"text/javascript\">if (window.MathJax) {MathJax.Hub.Config({SVG: {font: \"STIX-Web\"}});}</script><script>requirejs.config({paths: { 'plotly': ['https://cdn.plot.ly/plotly-latest.min']},});if(!window._Plotly) {require(['plotly'],function(plotly) {window._Plotly=plotly;});}</script>"
      ]
     },
     "metadata": {},
     "output_type": "display_data"
    }
   ],
   "source": [
    "plotly.offline.init_notebook_mode(connected=True)"
   ]
  },
  {
   "cell_type": "code",
   "execution_count": 3,
   "metadata": {},
   "outputs": [
    {
     "data": {
      "text/html": [
       "<div>\n",
       "<style scoped>\n",
       "    .dataframe tbody tr th:only-of-type {\n",
       "        vertical-align: middle;\n",
       "    }\n",
       "\n",
       "    .dataframe tbody tr th {\n",
       "        vertical-align: top;\n",
       "    }\n",
       "\n",
       "    .dataframe thead th {\n",
       "        text-align: right;\n",
       "    }\n",
       "</style>\n",
       "<table border=\"1\" class=\"dataframe\">\n",
       "  <thead>\n",
       "    <tr style=\"text-align: right;\">\n",
       "      <th></th>\n",
       "      <th>Land</th>\n",
       "      <th>Anzahl</th>\n",
       "    </tr>\n",
       "  </thead>\n",
       "  <tbody>\n",
       "    <tr>\n",
       "      <th>0</th>\n",
       "      <td>Belgien</td>\n",
       "      <td>543</td>\n",
       "    </tr>\n",
       "    <tr>\n",
       "      <th>1</th>\n",
       "      <td>Bulgarien</td>\n",
       "      <td>1</td>\n",
       "    </tr>\n",
       "    <tr>\n",
       "      <th>2</th>\n",
       "      <td>Deutsches Reich/Dtl.</td>\n",
       "      <td>2126</td>\n",
       "    </tr>\n",
       "    <tr>\n",
       "      <th>3</th>\n",
       "      <td>Estland,Lettland, Litauen</td>\n",
       "      <td>265</td>\n",
       "    </tr>\n",
       "    <tr>\n",
       "      <th>4</th>\n",
       "      <td>Niederlande</td>\n",
       "      <td>38</td>\n",
       "    </tr>\n",
       "    <tr>\n",
       "      <th>5</th>\n",
       "      <td>Norwegen</td>\n",
       "      <td>6</td>\n",
       "    </tr>\n",
       "    <tr>\n",
       "      <th>6</th>\n",
       "      <td>Österreich</td>\n",
       "      <td>235</td>\n",
       "    </tr>\n",
       "    <tr>\n",
       "      <th>7</th>\n",
       "      <td>Polen</td>\n",
       "      <td>2777</td>\n",
       "    </tr>\n",
       "    <tr>\n",
       "      <th>8</th>\n",
       "      <td>SU</td>\n",
       "      <td>3</td>\n",
       "    </tr>\n",
       "    <tr>\n",
       "      <th>9</th>\n",
       "      <td>Tschechoslowakei</td>\n",
       "      <td>222</td>\n",
       "    </tr>\n",
       "    <tr>\n",
       "      <th>10</th>\n",
       "      <td>Ukraine</td>\n",
       "      <td>5</td>\n",
       "    </tr>\n",
       "    <tr>\n",
       "      <th>11</th>\n",
       "      <td>Ungarn</td>\n",
       "      <td>6</td>\n",
       "    </tr>\n",
       "    <tr>\n",
       "      <th>12</th>\n",
       "      <td>Weißrussland</td>\n",
       "      <td>2</td>\n",
       "    </tr>\n",
       "  </tbody>\n",
       "</table>\n",
       "</div>"
      ],
      "text/plain": [
       "                         Land  Anzahl\n",
       "0                     Belgien     543\n",
       "1                   Bulgarien       1\n",
       "2        Deutsches Reich/Dtl.    2126\n",
       "3   Estland,Lettland, Litauen     265\n",
       "4                 Niederlande      38\n",
       "5                    Norwegen       6\n",
       "6                  Österreich     235\n",
       "7                       Polen    2777\n",
       "8                          SU       3\n",
       "9            Tschechoslowakei     222\n",
       "10                    Ukraine       5\n",
       "11                     Ungarn       6\n",
       "12               Weißrussland       2"
      ]
     },
     "execution_count": 3,
     "metadata": {},
     "output_type": "execute_result"
    }
   ],
   "source": [
    "df = pd.read_excel('data/Länder_Anzahl.xlsx')\n",
    "df"
   ]
  },
  {
   "cell_type": "code",
   "execution_count": 4,
   "metadata": {},
   "outputs": [
    {
     "data": {
      "application/vnd.plotly.v1+json": {
       "config": {
        "linkText": "Export to plot.ly",
        "plotlyServerURL": "https://plot.ly",
        "showLink": false
       },
       "data": [
        {
         "type": "bar",
         "uid": "fdf93df1-4929-41be-992b-62c47bf25d0b",
         "x": [
          "Belgien",
          "Bulgarien",
          "Deutsches Reich/Dtl.",
          "Estland,Lettland, Litauen",
          "Niederlande",
          "Norwegen",
          "Österreich",
          "Polen",
          "SU",
          "Tschechoslowakei",
          "Ukraine",
          "Ungarn",
          "Weißrussland"
         ],
         "y": [
          543,
          1,
          2126,
          265,
          38,
          6,
          235,
          2777,
          3,
          222,
          5,
          6,
          2
         ]
        }
       ],
       "layout": {}
      },
      "text/html": [
       "<div id=\"8e5ccf29-cd79-4826-b926-27a3ec28bd81\" style=\"height: 525px; width: 100%;\" class=\"plotly-graph-div\"></div><script type=\"text/javascript\">require([\"plotly\"], function(Plotly) { window.PLOTLYENV=window.PLOTLYENV || {};window.PLOTLYENV.BASE_URL=\"https://plot.ly\";\n",
       "if (document.getElementById(\"8e5ccf29-cd79-4826-b926-27a3ec28bd81\")) {\n",
       "    Plotly.newPlot(\"8e5ccf29-cd79-4826-b926-27a3ec28bd81\", [{\"x\": [\"Belgien\", \"Bulgarien\", \"Deutsches Reich/Dtl.\", \"Estland,Lettland, Litauen\", \"Niederlande\", \"Norwegen\", \"\\u00d6sterreich\", \"Polen\", \"SU\", \"Tschechoslowakei\", \"Ukraine\", \"Ungarn\", \"Wei\\u00dfrussland\"], \"y\": [543, 1, 2126, 265, 38, 6, 235, 2777, 3, 222, 5, 6, 2], \"type\": \"bar\", \"uid\": \"69165f72-eebf-4018-90f4-f9c9d253c30f\"}], {}, {\"showLink\": false, \"linkText\": \"Export to plot.ly\", \"plotlyServerURL\": \"https://plot.ly\"}); \n",
       "}\n",
       "});</script><script type=\"text/javascript\">window.addEventListener(\"resize\", function(){if (document.getElementById(\"8e5ccf29-cd79-4826-b926-27a3ec28bd81\")) {window._Plotly.Plots.resize(document.getElementById(\"8e5ccf29-cd79-4826-b926-27a3ec28bd81\"));};})</script>"
      ],
      "text/vnd.plotly.v1+html": [
       "<div id=\"8e5ccf29-cd79-4826-b926-27a3ec28bd81\" style=\"height: 525px; width: 100%;\" class=\"plotly-graph-div\"></div><script type=\"text/javascript\">require([\"plotly\"], function(Plotly) { window.PLOTLYENV=window.PLOTLYENV || {};window.PLOTLYENV.BASE_URL=\"https://plot.ly\";\n",
       "if (document.getElementById(\"8e5ccf29-cd79-4826-b926-27a3ec28bd81\")) {\n",
       "    Plotly.newPlot(\"8e5ccf29-cd79-4826-b926-27a3ec28bd81\", [{\"x\": [\"Belgien\", \"Bulgarien\", \"Deutsches Reich/Dtl.\", \"Estland,Lettland, Litauen\", \"Niederlande\", \"Norwegen\", \"\\u00d6sterreich\", \"Polen\", \"SU\", \"Tschechoslowakei\", \"Ukraine\", \"Ungarn\", \"Wei\\u00dfrussland\"], \"y\": [543, 1, 2126, 265, 38, 6, 235, 2777, 3, 222, 5, 6, 2], \"type\": \"bar\", \"uid\": \"69165f72-eebf-4018-90f4-f9c9d253c30f\"}], {}, {\"showLink\": false, \"linkText\": \"Export to plot.ly\", \"plotlyServerURL\": \"https://plot.ly\"}); \n",
       "}\n",
       "});</script><script type=\"text/javascript\">window.addEventListener(\"resize\", function(){if (document.getElementById(\"8e5ccf29-cd79-4826-b926-27a3ec28bd81\")) {window._Plotly.Plots.resize(document.getElementById(\"8e5ccf29-cd79-4826-b926-27a3ec28bd81\"));};})</script>"
      ]
     },
     "metadata": {},
     "output_type": "display_data"
    }
   ],
   "source": [
    "data = [go.Bar(x=df.Land, y=df.Anzahl)]\n",
    "\n",
    "po.iplot(data)"
   ]
  },
  {
   "cell_type": "code",
   "execution_count": 11,
   "metadata": {
    "scrolled": false
   },
   "outputs": [
    {
     "data": {
      "application/vnd.plotly.v1+json": {
       "config": {
        "linkText": "Export to plot.ly",
        "plotlyServerURL": "https://plot.ly",
        "showLink": false
       },
       "data": [
        {
         "labels": [
          "Belgien",
          "Bulgarien",
          "Deutsches Reich/Dtl.",
          "Estland,Lettland, Litauen",
          "Niederlande",
          "Norwegen",
          "Österreich",
          "Polen",
          "SU",
          "Tschechoslowakei",
          "Ukraine",
          "Ungarn",
          "Weißrussland"
         ],
         "type": "pie",
         "uid": "4e316b85-725a-44cb-bfd8-f2b9bd5b2384",
         "values": [
          543,
          1,
          2126,
          265,
          38,
          6,
          235,
          2777,
          3,
          222,
          5,
          6,
          2
         ]
        }
       ],
       "layout": {}
      },
      "text/html": [
       "<div id=\"afeca5a2-2d20-4d95-a931-d13f74173b44\" style=\"height: 525px; width: 100%;\" class=\"plotly-graph-div\"></div><script type=\"text/javascript\">require([\"plotly\"], function(Plotly) { window.PLOTLYENV=window.PLOTLYENV || {};window.PLOTLYENV.BASE_URL=\"https://plot.ly\";\n",
       "if (document.getElementById(\"afeca5a2-2d20-4d95-a931-d13f74173b44\")) {\n",
       "    Plotly.newPlot(\"afeca5a2-2d20-4d95-a931-d13f74173b44\", [{\"labels\": [\"Belgien\", \"Bulgarien\", \"Deutsches Reich/Dtl.\", \"Estland,Lettland, Litauen\", \"Niederlande\", \"Norwegen\", \"\\u00d6sterreich\", \"Polen\", \"SU\", \"Tschechoslowakei\", \"Ukraine\", \"Ungarn\", \"Wei\\u00dfrussland\"], \"values\": [543, 1, 2126, 265, 38, 6, 235, 2777, 3, 222, 5, 6, 2], \"type\": \"pie\", \"uid\": \"2d0caf91-f639-4ee2-95dc-3cd61d7745cf\"}], {}, {\"showLink\": false, \"linkText\": \"Export to plot.ly\", \"plotlyServerURL\": \"https://plot.ly\"}); \n",
       "}\n",
       "});</script><script type=\"text/javascript\">window.addEventListener(\"resize\", function(){if (document.getElementById(\"afeca5a2-2d20-4d95-a931-d13f74173b44\")) {window._Plotly.Plots.resize(document.getElementById(\"afeca5a2-2d20-4d95-a931-d13f74173b44\"));};})</script>"
      ],
      "text/vnd.plotly.v1+html": [
       "<div id=\"afeca5a2-2d20-4d95-a931-d13f74173b44\" style=\"height: 525px; width: 100%;\" class=\"plotly-graph-div\"></div><script type=\"text/javascript\">require([\"plotly\"], function(Plotly) { window.PLOTLYENV=window.PLOTLYENV || {};window.PLOTLYENV.BASE_URL=\"https://plot.ly\";\n",
       "if (document.getElementById(\"afeca5a2-2d20-4d95-a931-d13f74173b44\")) {\n",
       "    Plotly.newPlot(\"afeca5a2-2d20-4d95-a931-d13f74173b44\", [{\"labels\": [\"Belgien\", \"Bulgarien\", \"Deutsches Reich/Dtl.\", \"Estland,Lettland, Litauen\", \"Niederlande\", \"Norwegen\", \"\\u00d6sterreich\", \"Polen\", \"SU\", \"Tschechoslowakei\", \"Ukraine\", \"Ungarn\", \"Wei\\u00dfrussland\"], \"values\": [543, 1, 2126, 265, 38, 6, 235, 2777, 3, 222, 5, 6, 2], \"type\": \"pie\", \"uid\": \"2d0caf91-f639-4ee2-95dc-3cd61d7745cf\"}], {}, {\"showLink\": false, \"linkText\": \"Export to plot.ly\", \"plotlyServerURL\": \"https://plot.ly\"}); \n",
       "}\n",
       "});</script><script type=\"text/javascript\">window.addEventListener(\"resize\", function(){if (document.getElementById(\"afeca5a2-2d20-4d95-a931-d13f74173b44\")) {window._Plotly.Plots.resize(document.getElementById(\"afeca5a2-2d20-4d95-a931-d13f74173b44\"));};})</script>"
      ]
     },
     "metadata": {},
     "output_type": "display_data"
    }
   ],
   "source": [
    "labels = list(df.Land)\n",
    "values = list(df.Anzahl)\n",
    "\n",
    "pie = [go.Pie(labels=labels, values=values)]\n",
    "po.iplot(pie)"
   ]
  },
  {
   "cell_type": "code",
   "execution_count": 12,
   "metadata": {},
   "outputs": [],
   "source": [
    "from geopy.geocoders import Nominatim\n",
    "from geopy.extra.rate_limiter import RateLimiter"
   ]
  },
  {
   "cell_type": "code",
   "execution_count": 15,
   "metadata": {},
   "outputs": [
    {
     "data": {
      "text/html": [
       "<div>\n",
       "<style scoped>\n",
       "    .dataframe tbody tr th:only-of-type {\n",
       "        vertical-align: middle;\n",
       "    }\n",
       "\n",
       "    .dataframe tbody tr th {\n",
       "        vertical-align: top;\n",
       "    }\n",
       "\n",
       "    .dataframe thead th {\n",
       "        text-align: right;\n",
       "    }\n",
       "</style>\n",
       "<table border=\"1\" class=\"dataframe\">\n",
       "  <thead>\n",
       "    <tr style=\"text-align: right;\">\n",
       "      <th></th>\n",
       "      <th>Land</th>\n",
       "      <th>Anzahl</th>\n",
       "      <th>Koordinaten</th>\n",
       "    </tr>\n",
       "  </thead>\n",
       "  <tbody>\n",
       "    <tr>\n",
       "      <th>0</th>\n",
       "      <td>Belgien</td>\n",
       "      <td>543</td>\n",
       "      <td>(België / Belgique / Belgien, (50.6402809, 4.6...</td>\n",
       "    </tr>\n",
       "    <tr>\n",
       "      <th>1</th>\n",
       "      <td>Bulgarien</td>\n",
       "      <td>1</td>\n",
       "      <td>(Бългaрия, (42.6073975, 25.4856617))</td>\n",
       "    </tr>\n",
       "    <tr>\n",
       "      <th>2</th>\n",
       "      <td>Deutsches Reich/Dtl.</td>\n",
       "      <td>2126</td>\n",
       "      <td>None</td>\n",
       "    </tr>\n",
       "    <tr>\n",
       "      <th>3</th>\n",
       "      <td>Estland,Lettland, Litauen</td>\n",
       "      <td>265</td>\n",
       "      <td>None</td>\n",
       "    </tr>\n",
       "    <tr>\n",
       "      <th>4</th>\n",
       "      <td>Niederlande</td>\n",
       "      <td>38</td>\n",
       "      <td>(Nederland, (52.2379891, 5.53460738161551))</td>\n",
       "    </tr>\n",
       "    <tr>\n",
       "      <th>5</th>\n",
       "      <td>Norwegen</td>\n",
       "      <td>6</td>\n",
       "      <td>(Norge, Ytterbyvegen, Namsos, Trøndelag, 7810,...</td>\n",
       "    </tr>\n",
       "    <tr>\n",
       "      <th>6</th>\n",
       "      <td>Österreich</td>\n",
       "      <td>235</td>\n",
       "      <td>(Österreich, (47.2000338, 13.199959))</td>\n",
       "    </tr>\n",
       "    <tr>\n",
       "      <th>7</th>\n",
       "      <td>Polen</td>\n",
       "      <td>2777</td>\n",
       "      <td>(RP, (52.0977181, 19.0258159))</td>\n",
       "    </tr>\n",
       "    <tr>\n",
       "      <th>8</th>\n",
       "      <td>SU</td>\n",
       "      <td>3</td>\n",
       "      <td>(江苏省, 中国, (33.0000001, 119.9999999))</td>\n",
       "    </tr>\n",
       "    <tr>\n",
       "      <th>9</th>\n",
       "      <td>Tschechoslowakei</td>\n",
       "      <td>222</td>\n",
       "      <td>(Tschechoslowakei, Erinnerungsstraße, Mauthaus...</td>\n",
       "    </tr>\n",
       "    <tr>\n",
       "      <th>10</th>\n",
       "      <td>Ukraine</td>\n",
       "      <td>5</td>\n",
       "      <td>(Україна, (49.4871968, 31.2718321))</td>\n",
       "    </tr>\n",
       "    <tr>\n",
       "      <th>11</th>\n",
       "      <td>Ungarn</td>\n",
       "      <td>6</td>\n",
       "      <td>(Magyarország, (47.1817585, 19.5060937))</td>\n",
       "    </tr>\n",
       "    <tr>\n",
       "      <th>12</th>\n",
       "      <td>Weißrussland</td>\n",
       "      <td>2</td>\n",
       "      <td>(Беларусь, (53.4250605, 27.6971358))</td>\n",
       "    </tr>\n",
       "  </tbody>\n",
       "</table>\n",
       "</div>"
      ],
      "text/plain": [
       "                         Land  Anzahl  \\\n",
       "0                     Belgien     543   \n",
       "1                   Bulgarien       1   \n",
       "2        Deutsches Reich/Dtl.    2126   \n",
       "3   Estland,Lettland, Litauen     265   \n",
       "4                 Niederlande      38   \n",
       "5                    Norwegen       6   \n",
       "6                  Österreich     235   \n",
       "7                       Polen    2777   \n",
       "8                          SU       3   \n",
       "9            Tschechoslowakei     222   \n",
       "10                    Ukraine       5   \n",
       "11                     Ungarn       6   \n",
       "12               Weißrussland       2   \n",
       "\n",
       "                                          Koordinaten  \n",
       "0   (België / Belgique / Belgien, (50.6402809, 4.6...  \n",
       "1                (Бългaрия, (42.6073975, 25.4856617))  \n",
       "2                                                None  \n",
       "3                                                None  \n",
       "4         (Nederland, (52.2379891, 5.53460738161551))  \n",
       "5   (Norge, Ytterbyvegen, Namsos, Trøndelag, 7810,...  \n",
       "6               (Österreich, (47.2000338, 13.199959))  \n",
       "7                      (RP, (52.0977181, 19.0258159))  \n",
       "8                (江苏省, 中国, (33.0000001, 119.9999999))  \n",
       "9   (Tschechoslowakei, Erinnerungsstraße, Mauthaus...  \n",
       "10                (Україна, (49.4871968, 31.2718321))  \n",
       "11           (Magyarország, (47.1817585, 19.5060937))  \n",
       "12               (Беларусь, (53.4250605, 27.6971358))  "
      ]
     },
     "execution_count": 15,
     "metadata": {},
     "output_type": "execute_result"
    }
   ],
   "source": [
    "geolocator = Nominatim(user_agent='Plakatsammlungen')\n",
    "geocode = RateLimiter(geolocator.geocode, min_delay_seconds=1)\n",
    "df['Koordinaten'] = df.Land.apply(geocode)\n",
    "df"
   ]
  },
  {
   "cell_type": "code",
   "execution_count": 25,
   "metadata": {},
   "outputs": [
    {
     "name": "stderr",
     "output_type": "stream",
     "text": [
      "/home/dbsm-user/anaconda3/envs/Plakate/lib/python3.7/site-packages/ipykernel_launcher.py:1: SettingWithCopyWarning:\n",
      "\n",
      "\n",
      "A value is trying to be set on a copy of a slice from a DataFrame\n",
      "\n",
      "See the caveats in the documentation: http://pandas.pydata.org/pandas-docs/stable/indexing.html#indexing-view-versus-copy\n",
      "\n",
      "/home/dbsm-user/anaconda3/envs/Plakate/lib/python3.7/site-packages/ipykernel_launcher.py:2: SettingWithCopyWarning:\n",
      "\n",
      "\n",
      "A value is trying to be set on a copy of a slice from a DataFrame\n",
      "\n",
      "See the caveats in the documentation: http://pandas.pydata.org/pandas-docs/stable/indexing.html#indexing-view-versus-copy\n",
      "\n"
     ]
    },
    {
     "data": {
      "text/html": [
       "<div>\n",
       "<style scoped>\n",
       "    .dataframe tbody tr th:only-of-type {\n",
       "        vertical-align: middle;\n",
       "    }\n",
       "\n",
       "    .dataframe tbody tr th {\n",
       "        vertical-align: top;\n",
       "    }\n",
       "\n",
       "    .dataframe thead th {\n",
       "        text-align: right;\n",
       "    }\n",
       "</style>\n",
       "<table border=\"1\" class=\"dataframe\">\n",
       "  <thead>\n",
       "    <tr style=\"text-align: right;\">\n",
       "      <th></th>\n",
       "      <th>Land</th>\n",
       "      <th>Anzahl</th>\n",
       "      <th>Koordinaten</th>\n",
       "      <th>latitude</th>\n",
       "      <th>longitude</th>\n",
       "    </tr>\n",
       "  </thead>\n",
       "  <tbody>\n",
       "    <tr>\n",
       "      <th>0</th>\n",
       "      <td>Belgien</td>\n",
       "      <td>543</td>\n",
       "      <td>(België / Belgique / Belgien, (50.6402809, 4.6...</td>\n",
       "      <td>50.640281</td>\n",
       "      <td>4.666715</td>\n",
       "    </tr>\n",
       "    <tr>\n",
       "      <th>1</th>\n",
       "      <td>Bulgarien</td>\n",
       "      <td>1</td>\n",
       "      <td>(Бългaрия, (42.6073975, 25.4856617))</td>\n",
       "      <td>42.607397</td>\n",
       "      <td>25.485662</td>\n",
       "    </tr>\n",
       "    <tr>\n",
       "      <th>2</th>\n",
       "      <td>Deutsches Reich/Dtl.</td>\n",
       "      <td>2126</td>\n",
       "      <td>(Deutschland, (51.0834196, 10.4234469))</td>\n",
       "      <td>51.083420</td>\n",
       "      <td>10.423447</td>\n",
       "    </tr>\n",
       "    <tr>\n",
       "      <th>3</th>\n",
       "      <td>Estland,Lettland, Litauen</td>\n",
       "      <td>265</td>\n",
       "      <td>(Baltimaad / Baltijas valstis / Baltijos valst...</td>\n",
       "      <td>56.917329</td>\n",
       "      <td>24.244382</td>\n",
       "    </tr>\n",
       "    <tr>\n",
       "      <th>4</th>\n",
       "      <td>Niederlande</td>\n",
       "      <td>38</td>\n",
       "      <td>(Nederland, (52.2379891, 5.53460738161551))</td>\n",
       "      <td>52.237989</td>\n",
       "      <td>5.534607</td>\n",
       "    </tr>\n",
       "    <tr>\n",
       "      <th>5</th>\n",
       "      <td>Norwegen</td>\n",
       "      <td>6</td>\n",
       "      <td>(Norge, Ytterbyvegen, Namsos, Trøndelag, 7810,...</td>\n",
       "      <td>64.573154</td>\n",
       "      <td>11.528036</td>\n",
       "    </tr>\n",
       "    <tr>\n",
       "      <th>6</th>\n",
       "      <td>Österreich</td>\n",
       "      <td>235</td>\n",
       "      <td>(Österreich, (47.2000338, 13.199959))</td>\n",
       "      <td>47.200034</td>\n",
       "      <td>13.199959</td>\n",
       "    </tr>\n",
       "    <tr>\n",
       "      <th>7</th>\n",
       "      <td>Polen</td>\n",
       "      <td>2777</td>\n",
       "      <td>(RP, (52.0977181, 19.0258159))</td>\n",
       "      <td>52.097718</td>\n",
       "      <td>19.025816</td>\n",
       "    </tr>\n",
       "    <tr>\n",
       "      <th>8</th>\n",
       "      <td>SU</td>\n",
       "      <td>3</td>\n",
       "      <td>(江苏省, 中国, (33.0000001, 119.9999999))</td>\n",
       "      <td>33.000000</td>\n",
       "      <td>120.000000</td>\n",
       "    </tr>\n",
       "    <tr>\n",
       "      <th>9</th>\n",
       "      <td>Tschechoslowakei</td>\n",
       "      <td>222</td>\n",
       "      <td>(Tschechoslowakei, Erinnerungsstraße, Mauthaus...</td>\n",
       "      <td>48.257915</td>\n",
       "      <td>14.500782</td>\n",
       "    </tr>\n",
       "    <tr>\n",
       "      <th>10</th>\n",
       "      <td>Ukraine</td>\n",
       "      <td>5</td>\n",
       "      <td>(Україна, (49.4871968, 31.2718321))</td>\n",
       "      <td>49.487197</td>\n",
       "      <td>31.271832</td>\n",
       "    </tr>\n",
       "    <tr>\n",
       "      <th>11</th>\n",
       "      <td>Ungarn</td>\n",
       "      <td>6</td>\n",
       "      <td>(Magyarország, (47.1817585, 19.5060937))</td>\n",
       "      <td>47.181759</td>\n",
       "      <td>19.506094</td>\n",
       "    </tr>\n",
       "    <tr>\n",
       "      <th>12</th>\n",
       "      <td>Weißrussland</td>\n",
       "      <td>2</td>\n",
       "      <td>(Беларусь, (53.4250605, 27.6971358))</td>\n",
       "      <td>53.425061</td>\n",
       "      <td>27.697136</td>\n",
       "    </tr>\n",
       "  </tbody>\n",
       "</table>\n",
       "</div>"
      ],
      "text/plain": [
       "                         Land  Anzahl  \\\n",
       "0                     Belgien     543   \n",
       "1                   Bulgarien       1   \n",
       "2        Deutsches Reich/Dtl.    2126   \n",
       "3   Estland,Lettland, Litauen     265   \n",
       "4                 Niederlande      38   \n",
       "5                    Norwegen       6   \n",
       "6                  Österreich     235   \n",
       "7                       Polen    2777   \n",
       "8                          SU       3   \n",
       "9            Tschechoslowakei     222   \n",
       "10                    Ukraine       5   \n",
       "11                     Ungarn       6   \n",
       "12               Weißrussland       2   \n",
       "\n",
       "                                          Koordinaten   latitude   longitude  \n",
       "0   (België / Belgique / Belgien, (50.6402809, 4.6...  50.640281    4.666715  \n",
       "1                (Бългaрия, (42.6073975, 25.4856617))  42.607397   25.485662  \n",
       "2             (Deutschland, (51.0834196, 10.4234469))  51.083420   10.423447  \n",
       "3   (Baltimaad / Baltijas valstis / Baltijos valst...  56.917329   24.244382  \n",
       "4         (Nederland, (52.2379891, 5.53460738161551))  52.237989    5.534607  \n",
       "5   (Norge, Ytterbyvegen, Namsos, Trøndelag, 7810,...  64.573154   11.528036  \n",
       "6               (Österreich, (47.2000338, 13.199959))  47.200034   13.199959  \n",
       "7                      (RP, (52.0977181, 19.0258159))  52.097718   19.025816  \n",
       "8                (江苏省, 中国, (33.0000001, 119.9999999))  33.000000  120.000000  \n",
       "9   (Tschechoslowakei, Erinnerungsstraße, Mauthaus...  48.257915   14.500782  \n",
       "10                (Україна, (49.4871968, 31.2718321))  49.487197   31.271832  \n",
       "11           (Magyarország, (47.1817585, 19.5060937))  47.181759   19.506094  \n",
       "12               (Беларусь, (53.4250605, 27.6971358))  53.425061   27.697136  "
      ]
     },
     "execution_count": 25,
     "metadata": {},
     "output_type": "execute_result"
    }
   ],
   "source": [
    "df['Koordinaten'][2] = geolocator.geocode('Deutschland')\n",
    "df['Koordinaten'][3] = geolocator.geocode('Baltikum')\n",
    "\n",
    "df['latitude'] = df['Koordinaten'].apply(lambda c: c.latitude)\n",
    "df['longitude'] = df['Koordinaten'].apply(lambda c: c.longitude)\n",
    "df"
   ]
  },
  {
   "cell_type": "code",
   "execution_count": 55,
   "metadata": {},
   "outputs": [
    {
     "data": {
      "application/vnd.plotly.v1+json": {
       "config": {
        "linkText": "Export to plot.ly",
        "plotlyServerURL": "https://plot.ly",
        "showLink": false
       },
       "data": [
        {
         "lat": [
          50.6402809,
          42.6073975,
          51.0834196,
          56.91732905,
          52.2379891,
          64.5731537,
          47.2000338,
          52.0977181,
          33.0000001,
          48.2579149,
          49.4871968,
          47.1817585,
          53.4250605
         ],
         "lon": [
          4.6667145,
          25.4856617,
          10.4234469,
          24.244381583881,
          5.53460738161551,
          11.5280364395482,
          13.199959,
          19.0258159,
          119.9999999,
          14.5007822,
          31.2718321,
          19.5060937,
          27.6971358
         ],
         "text": [
          543,
          1,
          2126,
          265,
          38,
          6,
          235,
          2777,
          3,
          222,
          5,
          6,
          2
         ],
         "type": "scattergeo",
         "uid": "9240b992-48f0-4a1a-b40d-7a25aa64f64b"
        }
       ],
       "layout": {
        "geo": {
         "landcolor": "rgb(229, 229, 229)",
         "projection": {
          "type": "mercator"
         },
         "scope": "europe",
         "showland": true
        },
        "height": 1000,
        "title": {
         "text": "Herkunft der Bestände"
        },
        "width": 1000
       }
      },
      "text/html": [
       "<div id=\"9f91dd76-e02d-43ad-adc5-c2121a291e33\" style=\"height: 1000px; width: 1000px;\" class=\"plotly-graph-div\"></div><script type=\"text/javascript\">require([\"plotly\"], function(Plotly) { window.PLOTLYENV=window.PLOTLYENV || {};window.PLOTLYENV.BASE_URL=\"https://plot.ly\";\n",
       "if (document.getElementById(\"9f91dd76-e02d-43ad-adc5-c2121a291e33\")) {\n",
       "    Plotly.newPlot(\"9f91dd76-e02d-43ad-adc5-c2121a291e33\", [{\"lat\": [50.6402809, 42.6073975, 51.0834196, 56.91732905, 52.2379891, 64.5731537, 47.2000338, 52.0977181, 33.0000001, 48.2579149, 49.4871968, 47.1817585, 53.4250605], \"lon\": [4.6667145, 25.4856617, 10.4234469, 24.244381583881, 5.53460738161551, 11.5280364395482, 13.199959, 19.0258159, 119.9999999, 14.5007822, 31.2718321, 19.5060937, 27.6971358], \"text\": [543.0, 1.0, 2126.0, 265.0, 38.0, 6.0, 235.0, 2777.0, 3.0, 222.0, 5.0, 6.0, 2.0], \"type\": \"scattergeo\", \"uid\": \"9240b992-48f0-4a1a-b40d-7a25aa64f64b\"}], {\"geo\": {\"landcolor\": \"rgb(229, 229, 229)\", \"projection\": {\"type\": \"mercator\"}, \"scope\": \"europe\", \"showland\": true}, \"height\": 1000, \"title\": {\"text\": \"Herkunft der Best\\u00e4nde\"}, \"width\": 1000}, {\"showLink\": false, \"linkText\": \"Export to plot.ly\", \"plotlyServerURL\": \"https://plot.ly\"}); \n",
       "}\n",
       "});</script>"
      ],
      "text/vnd.plotly.v1+html": [
       "<div id=\"9f91dd76-e02d-43ad-adc5-c2121a291e33\" style=\"height: 1000px; width: 1000px;\" class=\"plotly-graph-div\"></div><script type=\"text/javascript\">require([\"plotly\"], function(Plotly) { window.PLOTLYENV=window.PLOTLYENV || {};window.PLOTLYENV.BASE_URL=\"https://plot.ly\";\n",
       "if (document.getElementById(\"9f91dd76-e02d-43ad-adc5-c2121a291e33\")) {\n",
       "    Plotly.newPlot(\"9f91dd76-e02d-43ad-adc5-c2121a291e33\", [{\"lat\": [50.6402809, 42.6073975, 51.0834196, 56.91732905, 52.2379891, 64.5731537, 47.2000338, 52.0977181, 33.0000001, 48.2579149, 49.4871968, 47.1817585, 53.4250605], \"lon\": [4.6667145, 25.4856617, 10.4234469, 24.244381583881, 5.53460738161551, 11.5280364395482, 13.199959, 19.0258159, 119.9999999, 14.5007822, 31.2718321, 19.5060937, 27.6971358], \"text\": [543.0, 1.0, 2126.0, 265.0, 38.0, 6.0, 235.0, 2777.0, 3.0, 222.0, 5.0, 6.0, 2.0], \"type\": \"scattergeo\", \"uid\": \"9240b992-48f0-4a1a-b40d-7a25aa64f64b\"}], {\"geo\": {\"landcolor\": \"rgb(229, 229, 229)\", \"projection\": {\"type\": \"mercator\"}, \"scope\": \"europe\", \"showland\": true}, \"height\": 1000, \"title\": {\"text\": \"Herkunft der Best\\u00e4nde\"}, \"width\": 1000}, {\"showLink\": false, \"linkText\": \"Export to plot.ly\", \"plotlyServerURL\": \"https://plot.ly\"}); \n",
       "}\n",
       "});</script>"
      ]
     },
     "metadata": {},
     "output_type": "display_data"
    }
   ],
   "source": [
    "countries = [go.Scattergeo(lon=df.longitude, lat=df.latitude, text=df.Anzahl)]\n",
    "layout = go.Layout(\n",
    "    title='Herkunft der Bestände',\n",
    "    geo=go.layout.Geo(\n",
    "        scope='europe',\n",
    "        showland = True,\n",
    "        landcolor = 'rgb(229, 229, 229)',\n",
    "        projection=go.layout.geo.Projection(type='mercator')\n",
    "    ),\n",
    "    width=1000,\n",
    "    height=1000\n",
    ")\n",
    "\n",
    "fig = go.Figure(layout=layout, data=countries)\n",
    "po.iplot(fig)"
   ]
  },
  {
   "cell_type": "code",
   "execution_count": null,
   "metadata": {},
   "outputs": [],
   "source": []
  }
 ],
 "metadata": {
  "kernelspec": {
   "display_name": "Python 3",
   "language": "python",
   "name": "python3"
  },
  "language_info": {
   "codemirror_mode": {
    "name": "ipython",
    "version": 3
   },
   "file_extension": ".py",
   "mimetype": "text/x-python",
   "name": "python",
   "nbconvert_exporter": "python",
   "pygments_lexer": "ipython3",
   "version": "3.7.2"
  }
 },
 "nbformat": 4,
 "nbformat_minor": 2
}
